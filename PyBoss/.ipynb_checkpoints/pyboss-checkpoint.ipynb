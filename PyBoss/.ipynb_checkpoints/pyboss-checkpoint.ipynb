{
 "cells": [
  {
   "cell_type": "code",
   "execution_count": 37,
   "metadata": {},
   "outputs": [],
   "source": [
    "#import os /csv , my hands are tied - no pandas\n",
    "import os\n",
    "import csv"
   ]
  },
  {
   "cell_type": "code",
   "execution_count": 38,
   "metadata": {},
   "outputs": [],
   "source": [
    "# define path to file file_path=\"/Resources/employee_data.csv\"\n",
    "file_path=os.path.join(\"Resources\",\"employee_data.csv\")"
   ]
  },
  {
   "cell_type": "code",
   "execution_count": 39,
   "metadata": {},
   "outputs": [],
   "source": [
    "# create States and states abbreviation dictionary , used to replace full state name to 2 letter abbreviation\n",
    "states = {'Alaska': 'AK', 'Alabama': 'AL', 'Arkansas': 'AR', 'American Samoa': 'AS', 'Arizona': 'AZ', 'California': 'CA', 'Colorado': 'CO', 'Connecticut': 'CT', 'District of Columbia': 'DC', 'Delaware': 'DE', 'Florida': 'FL', 'Georgia': 'GA', 'Guam': 'GU', 'Hawaii': 'HI', 'Iowa': 'IA', 'Idaho': 'ID', 'Illinois': 'IL', 'Indiana': 'IN', 'Kansas': 'KS', 'Kentucky': 'KY', 'Louisiana': 'LA', 'Massachusetts': 'MA', 'Maryland': 'MD', 'Maine': 'ME', 'Michigan': 'MI', 'Minnesota': 'MN', 'Missouri': 'MO', 'Northern Mariana Islands': 'MP', 'Mississippi': 'MS', 'Montana': 'MT', 'National': 'NA', 'North Carolina': 'NC', 'North Dakota': 'ND', 'Nebraska': 'NE', 'New Hampshire': 'NH', 'New Jersey': 'NJ', 'New Mexico': 'NM', 'Nevada': 'NV', 'New York': 'NY', 'Ohio': 'OH', 'Oklahoma': 'OK', 'Oregon': 'OR', 'Pennsylvania': 'PA', 'Puerto Rico': 'PR', 'Rhode Island': 'RI', 'South Carolina': 'SC', 'South Dakota': 'SD', 'Tennessee': 'TN', 'Texas': 'TX', 'Utah': 'UT', 'Virginia': 'VA', 'Virgin Islands': 'VI', 'Vermont': 'VT', 'Washington': 'WA', 'Wisconsin': 'WI', 'West Virginia': 'WV', 'Wyoming': 'WY'}\n",
    "# print(states) # debug print first row"
   ]
  },
  {
   "cell_type": "code",
   "execution_count": 40,
   "metadata": {},
   "outputs": [],
   "source": [
    "# open file using csv open function, using csv reader to form csvreader object ....rows \n",
    "with open(file_path) as csvfile:\n",
    "    csv_reader=csv.reader(csvfile)\n",
    "    header=(next(csv_reader)) \n",
    "    #print(header) # debug print first row\n",
    "    row_new=[] # name list for conveting csv_reader with new format\n",
    "    row_new_head=['Emp ID','First Name','Last Name','DOB','SSN','State'] # define header for converted format list\n",
    "    #constructing new rows based \n",
    "    row_new=[[row1[0],row1[1].split()[0],row1[1].split()[1],f'{row1[2][5:7]}/{row1[2][-2:]}/{row1[2][:4]}',f'***-**-{row1[3][-4:]}',states[row1[4]]] for row1 in csv_reader]\n",
    "    # print(row_new) # debug print"
   ]
  },
  {
   "cell_type": "code",
   "execution_count": 41,
   "metadata": {},
   "outputs": [
    {
     "name": "stdout",
     "output_type": "stream",
     "text": [
      "\n",
      " File is created/(written over) at Resources\\converted_employee_data.csv\" \n",
      " the end\n"
     ]
    }
   ],
   "source": [
    "#output file path , open to write , use  new lists to print output to csv\n",
    "file_path2=os.path.join(\"Resources\",\"converted_employee_data.csv\")\n",
    "with open(file_path2,'w') as csvfile:\n",
    "    write = csv.writer(csvfile,lineterminator = '\\n') \n",
    "    write.writerow(row_new_head)\n",
    "    write.writerows(row_new)\n",
    "print(f'\\n File is created/(written over) at {file_path2}\" \\n the end')   "
   ]
  },
  {
   "cell_type": "code",
   "execution_count": null,
   "metadata": {},
   "outputs": [],
   "source": []
  }
 ],
 "metadata": {
  "kernelspec": {
   "display_name": "Python 3",
   "language": "python",
   "name": "python3"
  },
  "language_info": {
   "codemirror_mode": {
    "name": "ipython",
    "version": 3
   },
   "file_extension": ".py",
   "mimetype": "text/x-python",
   "name": "python",
   "nbconvert_exporter": "python",
   "pygments_lexer": "ipython3",
   "version": "3.8.3"
  }
 },
 "nbformat": 4,
 "nbformat_minor": 4
}
