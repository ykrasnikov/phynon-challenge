{
 "cells": [
  {
   "cell_type": "code",
   "execution_count": 18,
   "metadata": {},
   "outputs": [],
   "source": [
    "# IN dedication to Carlos's List Comprehensions and playing with dictionaries\n",
    "# import os /csv , my hands are tied - no pandas\n",
    "import os\n",
    "import csv"
   ]
  },
  {
   "cell_type": "code",
   "execution_count": 19,
   "metadata": {},
   "outputs": [],
   "source": [
    "# define path to file file_path=\"/Resources/budget_data.csv\"\n",
    "file_path=os.path.join(\"Resources\",\"budget_data.csv\")"
   ]
  },
  {
   "cell_type": "code",
   "execution_count": 20,
   "metadata": {},
   "outputs": [],
   "source": [
    "# open file using csv open function, using csv reader to form csvreader object ....rows \n",
    "with open(file_path, 'r', encoding=\"utf-8\") as csvfile:\n",
    "    csvrow=csv.reader(csvfile, delimiter=\",\")\n",
    "    header=(next(csvrow))\n",
    "    # print(header) # debug print first row\n",
    "    # create dictionary key =month , value =float of profits from csvreader object\n",
    "    mydict = {r[0]:float(r[1]) for r in csvrow} \n",
    "    # print(mydict) #debug print dictionary"
   ]
  },
  {
   "cell_type": "code",
   "execution_count": 21,
   "metadata": {},
   "outputs": [],
   "source": [
    "# creating reversed dictionary  key- change of profit from one month to another (original dates are sorted)\n",
    "i_dict={}\n",
    "for x,y in mydict.items():\n",
    "    if x!=list(mydict.keys())[0]:  # skip first row in original as there is nothing to subtract\n",
    "        i_dict[y-previous_month]=x\n",
    "    previous_month=y               # little buffer for previous month value\n",
    "#print(i_dict)    #debug print"
   ]
  },
  {
   "cell_type": "code",
   "execution_count": 22,
   "metadata": {},
   "outputs": [],
   "source": [
    "# total months will be length of original dictionary keys , can just use \n",
    "total_month=len(mydict)\n",
    "# print(total_month) #debug print"
   ]
  },
  {
   "cell_type": "code",
   "execution_count": 23,
   "metadata": {},
   "outputs": [],
   "source": [
    "# finding max value for profit loss and corresponding date - create tuple from reversed change of profit dictionary\n",
    "max_tuple=max(i_dict.items()) \n",
    "max_ch=\"${:,.2f}\".format(max_tuple[0])\n",
    "#print(max_tuple) # debug print\n",
    "#print(max(mydict.values())) # debug  check "
   ]
  },
  {
   "cell_type": "code",
   "execution_count": 24,
   "metadata": {},
   "outputs": [],
   "source": [
    "# same for min profit tuple\n",
    "min_tuple=min(i_dict.items())\n",
    "min_ch=\"${:,.2f}\".format(min_tuple[0])\n",
    "# print(min_tuple) #debug print"
   ]
  },
  {
   "cell_type": "code",
   "execution_count": 25,
   "metadata": {},
   "outputs": [],
   "source": [
    "#  suym of all profits - using sum function\n",
    "total=sum(mydict.values())\n",
    "formatted_total = \"${:,.2f}\".format(total)\n",
    "# print(formatted_total) #debug print"
   ]
  },
  {
   "cell_type": "code",
   "execution_count": 26,
   "metadata": {},
   "outputs": [],
   "source": [
    "# average change in profit calculation - sum of keys divided by length\n",
    "average_change=sum(i_dict.keys()) / len(i_dict)\n",
    "formatted_ac = \"${:,.2f}\".format(average_change)\n",
    "# print(formatted_ac) #debug print"
   ]
  },
  {
   "cell_type": "code",
   "execution_count": 27,
   "metadata": {},
   "outputs": [
    {
     "name": "stdout",
     "output_type": "stream",
     "text": [
      "Financial Analysis \n",
      "________________________________________\n",
      "Total Months: 86\n",
      "Total: $38,382,578.00\n",
      "Average Change: $-2,315.12\n",
      "Greatest Increase in Profits: Feb-2012 ($1,926,159.00)\n",
      "Greatest Decrease in Profits: Sep-2013 ($-2,196,167.00)\n",
      "\n",
      "\n",
      " File is created/(writed over) at Resources\\budget_data_results.text\" \n",
      " the end\n"
     ]
    }
   ],
   "source": [
    "# Print Analysis - create list of strings with print content\n",
    "prn_str=\"Financial Analysis \\n\"+\"_\"*40+\"\\n\"\n",
    "prn_str+=f\"Total Months: {total_month}\\n\"\n",
    "prn_str+=f\"Total: {formatted_total}\\n\"\n",
    "prn_str+=f\"Average Change: {formatted_ac}\\n\"\n",
    "prn_str+=f\"Greatest Increase in Profits: {max_tuple[1]} ({max_ch})\\n\"\n",
    "prn_str+=f\"Greatest Decrease in Profits: {min_tuple[1]} ({min_ch})\\n\"\n",
    "print(prn_str)\n",
    "# file path to write\n",
    "file_path2 = os.path.join('Resources', 'budget_data_results.text')\n",
    "\n",
    "# Open File Using to \"Write\". and write print list\n",
    "with open(file_path2, 'w') as txt_file:\n",
    "     txt_file.write(prn_str)\n",
    "print(f'\\n File is created/(written over) at {file_path2}\" \\n the end')"
   ]
  },
  {
   "cell_type": "code",
   "execution_count": null,
   "metadata": {},
   "outputs": [],
   "source": []
  }
 ],
 "metadata": {
  "kernelspec": {
   "display_name": "Python 3",
   "language": "python",
   "name": "python3"
  },
  "language_info": {
   "codemirror_mode": {
    "name": "ipython",
    "version": 3
   },
   "file_extension": ".py",
   "mimetype": "text/x-python",
   "name": "python",
   "nbconvert_exporter": "python",
   "pygments_lexer": "ipython3",
   "version": "3.8.3"
  }
 },
 "nbformat": 4,
 "nbformat_minor": 4
}