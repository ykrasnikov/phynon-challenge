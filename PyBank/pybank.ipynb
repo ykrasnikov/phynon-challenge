{
 "cells": [
  {
   "cell_type": "code",
   "execution_count": null,
   "metadata": {},
   "outputs": [],
   "source": [
    "# IN dedication to Carlos's List Comprehensions and playing with dictionaries\n",
    "# import os /csv , my hands are tied - no pandas\n",
    "import os\n",
    "import csv"
   ]
  },
  {
   "cell_type": "code",
   "execution_count": null,
   "metadata": {},
   "outputs": [],
   "source": [
    "# define path to file file_path=\"/Resources/budget_data.csv\"\n",
    "file_path=os.path.join(\"Resources\",\"budget_data.csv\")"
   ]
  },
  {
   "cell_type": "code",
   "execution_count": null,
   "metadata": {},
   "outputs": [],
   "source": [
    "# open file using csv open function, using csv reader to form csvreader object ....rows \n",
    "with open(file_path, 'r', encoding=\"utf-8\") as csvfile:\n",
    "    csvrow=csv.reader(csvfile, delimiter=\",\")\n",
    "    header=(next(csvrow))\n",
    "    # print(header) # debug print first row\n",
    "    # create dictionary key =month , value =float of profits from csvreader object\n",
    "    mydict = {r[0]:float(r[1]) for r in csvrow} \n",
    "    # print(mydict) #debug print dictionary"
   ]
  },
  {
   "cell_type": "code",
   "execution_count": null,
   "metadata": {},
   "outputs": [],
   "source": [
    "# creating reversed dictionary  key- change of profit from one month to another (original dates are sorted)\n",
    "i_dict={}\n",
    "for x,y in mydict.items():\n",
    "    if x!=list(mydict.keys())[0]:  # skip first row in original as there is nothing to subtract\n",
    "        i_dict[y-previous_month]=x\n",
    "    previous_month=y               # little buffer for previous month value\n",
    "print(i_dict)   "
   ]
  },
  {
   "cell_type": "code",
   "execution_count": null,
   "metadata": {
    "scrolled": false
   },
   "outputs": [],
   "source": [
    "#if u decide not to reverse keys /values above , u can reverse here.... i_dict_r = dict(map(reversed, i_dict.items())) #i_dict_r = {value: key for key, value in i_dict.items()}\n",
    "#print(i_dict_r)"
   ]
  },
  {
   "cell_type": "code",
   "execution_count": null,
   "metadata": {},
   "outputs": [],
   "source": [
    "# total months will be length of original dictionary keys , can just use \n",
    "total_month=len(mydict)\n",
    "# print(total_month) #debug print"
   ]
  },
  {
   "cell_type": "code",
   "execution_count": null,
   "metadata": {},
   "outputs": [],
   "source": [
    "# finding max value for profit loss and corresponding date - create tuple from reversed change of profit dictionary\n",
    "max_tuple=max(i_dict.items()) \n",
    "print(max_tuple) # debug print\n",
    "#print(max(mydict.values())) # debug  check "
   ]
  },
  {
   "cell_type": "code",
   "execution_count": null,
   "metadata": {},
   "outputs": [],
   "source": [
    "# same for min profit tuple\n",
    "min_tuple=min(i_dict.items())\n",
    "print(min_tuple)"
   ]
  },
  {
   "cell_type": "code",
   "execution_count": null,
   "metadata": {},
   "outputs": [],
   "source": [
    "#  suym of all profits - using sum function\n",
    "total=sum(mydict.values())\n",
    "formatted_total = \"${:,.2f}\".format(average_change)\n",
    "print(formatted_total)"
   ]
  },
  {
   "cell_type": "code",
   "execution_count": null,
   "metadata": {},
   "outputs": [],
   "source": [
    "# average change in profit calculation - sum of keys divided by length\n",
    "average_change=sum(i_dict.keys()) / len(i_dict)\n",
    "formatted_ac = \"${:,.2f}\".format(average_change)\n",
    "print(formatted_ac)"
   ]
  },
  {
   "cell_type": "code",
   "execution_count": null,
   "metadata": {},
   "outputs": [],
   "source": []
  }
 ],
 "metadata": {
  "kernelspec": {
   "display_name": "Python 3",
   "language": "python",
   "name": "python3"
  },
  "language_info": {
   "codemirror_mode": {
    "name": "ipython",
    "version": 3
   },
   "file_extension": ".py",
   "mimetype": "text/x-python",
   "name": "python",
   "nbconvert_exporter": "python",
   "pygments_lexer": "ipython3",
   "version": "3.8.3"
  }
 },
 "nbformat": 4,
 "nbformat_minor": 4
}
