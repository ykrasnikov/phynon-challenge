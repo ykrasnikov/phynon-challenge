{
 "cells": [
  {
   "cell_type": "code",
   "execution_count": 318,
   "metadata": {},
   "outputs": [
    {
     "name": "stdout",
     "output_type": "stream",
     "text": [
      "Adam Wayne, the conqueror, with his face flung back and his mane like a lion's, stood with his great sword point upwards, the red raiment of his office flapping around him like the red wings of an archangel. And the King saw, he knew not how, something new and overwhelming. The great green trees and the great red robes swung together in the wind. The preposterous masquerade, born of his own mockery, towered over him and embraced the world. This was the normal, this was sanity, this was nature, and he himself, with his rationality, and his detachment and his black frock-coat, he was the exception and the accident a blot of black upon a world of crimson and gold.\n",
      "669\n",
      "529\n"
     ]
    }
   ],
   "source": [
    "# import os / re library\n",
    "import os\n",
    "import re\n",
    "# define path , open file , read to para\n",
    "file_path=os.path.join(\"raw_data\",\"paragraph_3.txt\")\n",
    "with open(file_path) as text_file:\n",
    "    para = text_file.read().replace('\\n',' ')\n",
    "print(para) # debug print\n",
    "character_count= len(para)\n",
    "print(character_count) # debug print\n",
    "letter_count=len(re.sub(r\"\\W\", \"\", para, flags=re.I))\n",
    "print(letter_count) # debug print"
   ]
  },
  {
   "cell_type": "code",
   "execution_count": 319,
   "metadata": {},
   "outputs": [],
   "source": [
    "#word count\n",
    "word_count=len(para.split()) "
   ]
  },
  {
   "cell_type": "code",
   "execution_count": 320,
   "metadata": {},
   "outputs": [],
   "source": [
    "#sentence count\n",
    "sentence_count=len(re.split(\"(?<=[.!?]) +\", para))"
   ]
  },
  {
   "cell_type": "code",
   "execution_count": 321,
   "metadata": {},
   "outputs": [],
   "source": [
    "letter_word=\"{:.1f}\".format(letter_count/word_count)"
   ]
  },
  {
   "cell_type": "code",
   "execution_count": 322,
   "metadata": {},
   "outputs": [],
   "source": [
    "word_sentence=\"{:.1f}\".format(word_count/sentence_count)"
   ]
  },
  {
   "cell_type": "code",
   "execution_count": 323,
   "metadata": {},
   "outputs": [
    {
     "name": "stdout",
     "output_type": "stream",
     "text": [
      "Paragraph Analysis \n",
      "----------------------------------------\n",
      "Approximate Word Count: 120\n",
      "Approximate Sentence Count: 5\n",
      "Average Letter Count: 4.4\n",
      "Average Sentence Length: 24.0\n",
      "\n",
      "\n",
      " File is created/(written over) at raw_data\\Paragraph_results.text\" \n",
      " the end\n"
     ]
    }
   ],
   "source": [
    "# Print Analysis - create list of strings with print content\n",
    "prn_str=\"Paragraph Analysis \\n\"+\"-\"*40+\"\\n\"\n",
    "prn_str+=f\"Approximate Word Count: {word_count}\\n\"\n",
    "prn_str+=f\"Approximate Sentence Count: {sentence_count}\\n\"\n",
    "prn_str+=f\"Average Letter Count: {letter_word}\\n\"\n",
    "prn_str+=f\"Average Sentence Length: {word_sentence}\\n\"\n",
    "\n",
    "print(prn_str)\n",
    "# file path to write\n",
    "file_path2 = os.path.join('raw_data', 'Paragraph_results.text')\n",
    "\n",
    "# Open File Using to \"Write\". and write print list\n",
    "with open(file_path2, 'w') as txt_file:\n",
    "     txt_file.write(prn_str)\n",
    "print(f'\\n File is created/(written over) at {file_path2}\" \\n the end')"
   ]
  },
  {
   "cell_type": "code",
   "execution_count": null,
   "metadata": {},
   "outputs": [],
   "source": []
  },
  {
   "cell_type": "code",
   "execution_count": null,
   "metadata": {},
   "outputs": [],
   "source": []
  }
 ],
 "metadata": {
  "kernelspec": {
   "display_name": "Python 3",
   "language": "python",
   "name": "python3"
  },
  "language_info": {
   "codemirror_mode": {
    "name": "ipython",
    "version": 3
   },
   "file_extension": ".py",
   "mimetype": "text/x-python",
   "name": "python",
   "nbconvert_exporter": "python",
   "pygments_lexer": "ipython3",
   "version": "3.8.3"
  }
 },
 "nbformat": 4,
 "nbformat_minor": 4
}
