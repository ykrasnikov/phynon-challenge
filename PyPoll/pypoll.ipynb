{
 "cells": [
  {
   "cell_type": "code",
   "execution_count": 1,
   "metadata": {},
   "outputs": [],
   "source": [
    "# import os /csv , my hands are tied - no pandas\n",
    "import os\n",
    "import csv"
   ]
  },
  {
   "cell_type": "code",
   "execution_count": 2,
   "metadata": {},
   "outputs": [],
   "source": [
    "# define path to file file_path=\"/Resources/election_data.csv\"\n",
    "file_path=os.path.join(\"Resources\",\"election_data.csv\")"
   ]
  },
  {
   "cell_type": "code",
   "execution_count": 3,
   "metadata": {},
   "outputs": [
    {
     "name": "stdout",
     "output_type": "stream",
     "text": [
      "['Voter ID', 'County', 'Candidate']\n",
      "{'Khan': 2218231, 'Correy': 704200, 'Li': 492940, \"O'Tooley\": 105630}\n"
     ]
    }
   ],
   "source": [
    "# open file using csv open function, using csv reader to form csvreader object ....rows \n",
    "with open(file_path, 'r', encoding=\"utf-8\") as csvfile:\n",
    "    csvrow=csv.reader(csvfile, delimiter=\",\")\n",
    "    header=(next(csvrow))\n",
    "    print(header) # debug print first row\n",
    "    candidate_counter = {}\n",
    "    for row in csvrow:\n",
    "        if row[2] not in candidate_counter:\n",
    "            candidate_counter[row[2]] = 1\n",
    "        else:\n",
    "            candidate_counter[row[2]] += 1 \n",
    "    print(candidate_counter)"
   ]
  },
  {
   "cell_type": "code",
   "execution_count": 4,
   "metadata": {},
   "outputs": [
    {
     "name": "stdout",
     "output_type": "stream",
     "text": [
      "3521001\n"
     ]
    }
   ],
   "source": [
    "total_votes=sum(candidate_counter.values())\n",
    "print(total_votes)"
   ]
  },
  {
   "cell_type": "code",
   "execution_count": 10,
   "metadata": {},
   "outputs": [
    {
     "data": {
      "text/plain": [
       "{'Khan': [63.00001050837531, 2218231],\n",
       " 'Correy': [19.999994319797125, 704200],\n",
       " 'Li': [13.999996023857989, 492940],\n",
       " \"O'Tooley\": [2.999999147969569, 105630]}"
      ]
     },
     "execution_count": 10,
     "metadata": {},
     "output_type": "execute_result"
    }
   ],
   "source": [
    "candidate_counter1={}\n",
    "for key in candidate_counter:\n",
    "    percent=(candidate_counter[key])/total_votes*100\n",
    "    candidate_counter1[key]=[percent,candidate_counter[key]]\n",
    "#print(candidate_counter)\n",
    "print(candidate_counter1)"
   ]
  },
  {
   "cell_type": "code",
   "execution_count": 8,
   "metadata": {},
   "outputs": [
    {
     "data": {
      "text/plain": [
       "'Khan'"
      ]
     },
     "execution_count": 8,
     "metadata": {},
     "output_type": "execute_result"
    }
   ],
   "source": [
    "max_key = max(candidate_counter1, key=candidate_counter1.get)\n",
    "max_key"
   ]
  },
  {
   "cell_type": "code",
   "execution_count": null,
   "metadata": {},
   "outputs": [],
   "source": []
  }
 ],
 "metadata": {
  "kernelspec": {
   "display_name": "Python 3",
   "language": "python",
   "name": "python3"
  },
  "language_info": {
   "codemirror_mode": {
    "name": "ipython",
    "version": 3
   },
   "file_extension": ".py",
   "mimetype": "text/x-python",
   "name": "python",
   "nbconvert_exporter": "python",
   "pygments_lexer": "ipython3",
   "version": "3.8.3"
  }
 },
 "nbformat": 4,
 "nbformat_minor": 4
}
