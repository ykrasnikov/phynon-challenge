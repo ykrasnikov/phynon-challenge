{
 "cells": [
  {
   "cell_type": "code",
   "execution_count": 36,
   "metadata": {},
   "outputs": [],
   "source": [
    "# import os /csv , my hands are tied - no pandas\n",
    "import os\n",
    "import csv"
   ]
  },
  {
   "cell_type": "code",
   "execution_count": 37,
   "metadata": {},
   "outputs": [],
   "source": [
    "# define path to file file_path=\"/Resources/election_data.csv\"\n",
    "file_path=os.path.join(\"Resources\",\"election_data.csv\")"
   ]
  },
  {
   "cell_type": "code",
   "execution_count": 38,
   "metadata": {},
   "outputs": [],
   "source": [
    "# open file using csv open function, using csv reader to form csvreader object ....rows \n",
    "with open(file_path, 'r', encoding=\"utf-8\") as csvfile:\n",
    "    csvrow=csv.reader(csvfile, delimiter=\",\")\n",
    "    header=(next(csvrow))\n",
    "    # print(header) # debug print first row\n",
    "    candidate_counter = {}  # initial dictionary naming\n",
    "    for row in csvrow:      # populating dictionary - unique name  and counter\n",
    "        if row[2] not in candidate_counter:\n",
    "            candidate_counter[row[2]] = 1\n",
    "        else:\n",
    "            candidate_counter[row[2]] += 1 \n",
    "    # print(candidate_counter) # debug print"
   ]
  },
  {
   "cell_type": "code",
   "execution_count": 39,
   "metadata": {},
   "outputs": [],
   "source": [
    "total_votes=sum(candidate_counter.values()) # total votes is a sum of values \n",
    "#print(total_votes) # debug print"
   ]
  },
  {
   "cell_type": "code",
   "execution_count": 40,
   "metadata": {},
   "outputs": [],
   "source": [
    "candidate_counter1={}  creating additional dic to add % of votes\n",
    "for key in candidate_counter:\n",
    "    percent=(candidate_counter[key])/total_votes*100\n",
    "    candidate_counter1[key]=[\"{:.3f}\".format(percent),candidate_counter[key]]\n",
    "#print(candidate_counter)\n",
    "# print(candidate_counter1) # debug print"
   ]
  },
  {
   "cell_type": "code",
   "execution_count": 41,
   "metadata": {},
   "outputs": [],
   "source": [
    "max_key = max(candidate_counter1, key=candidate_counter1.get) # getting key for max votes\n",
    "# max_key # debug print"
   ]
  },
  {
   "cell_type": "code",
   "execution_count": 42,
   "metadata": {},
   "outputs": [
    {
     "name": "stdout",
     "output_type": "stream",
     "text": [
      " Election Results \n",
      "----------------------------------------\n",
      " Total Votes: 3521001\n",
      "----------------------------------------\n",
      " Khan :63.000% (2218231)\n",
      " Correy :20.000% (704200)\n",
      " Li :14.000% (492940)\n",
      " O'Tooley :3.000% (105630)\n",
      "----------------------------------------\n",
      " Winner: Khan\n",
      "----------------------------------------\n",
      "\n",
      "\n",
      " File is created/(written over) at Resources\\polls_results.text\" \n",
      " the end\n"
     ]
    }
   ],
   "source": [
    "# Print Analysis - create list of strings with print content\n",
    "prn_str=\" Election Results \\n\"\n",
    "prn_str+=\"-\"*40+\"\\n\"\n",
    "prn_str+=f\" Total Votes: {total_votes}\\n\"\n",
    "prn_str+=\"-\"*40+\"\\n\"\n",
    "for key in candidate_counter:\n",
    "    prn_str+=f\" {key} :{candidate_counter1[key][0]}% ({candidate_counter1[key][1]})\\n\"\n",
    "prn_str+=\"-\"*40+\"\\n\"\n",
    "prn_str+=f\" Winner: {max_key}\\n\"\n",
    "prn_str+=\"-\"*40+\"\\n\"\n",
    "\n",
    "print(prn_str)\n",
    "# file path to write\n",
    "file_path2 = os.path.join('Resources', 'polls_results.text')\n",
    "\n",
    "# Open File Using to \"Write\". and write print list\n",
    "with open(file_path2, 'w') as txt_file:\n",
    "     txt_file.write(prn_str)\n",
    "print(f'\\n File is created/(written over) at {file_path2}\" \\n the end')"
   ]
  },
  {
   "cell_type": "code",
   "execution_count": null,
   "metadata": {},
   "outputs": [],
   "source": []
  }
 ],
 "metadata": {
  "kernelspec": {
   "display_name": "Python 3",
   "language": "python",
   "name": "python3"
  },
  "language_info": {
   "codemirror_mode": {
    "name": "ipython",
    "version": 3
   },
   "file_extension": ".py",
   "mimetype": "text/x-python",
   "name": "python",
   "nbconvert_exporter": "python",
   "pygments_lexer": "ipython3",
   "version": "3.8.3"
  }
 },
 "nbformat": 4,
 "nbformat_minor": 4
}
